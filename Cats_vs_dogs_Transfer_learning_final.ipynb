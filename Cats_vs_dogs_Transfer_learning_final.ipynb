{
  "nbformat": 4,
  "nbformat_minor": 0,
  "metadata": {
    "accelerator": "GPU",
    "colab": {
      "name": "Copy of Cats vs dogs Transfer learning.ipynb",
      "provenance": [],
      "collapsed_sections": []
    },
    "kernelspec": {
      "display_name": "Python 3",
      "language": "python",
      "name": "python3"
    },
    "language_info": {
      "codemirror_mode": {
        "name": "ipython",
        "version": 3
      },
      "file_extension": ".py",
      "mimetype": "text/x-python",
      "name": "python",
      "nbconvert_exporter": "python",
      "pygments_lexer": "ipython3",
      "version": "3.7.4"
    }
  },
  "cells": [
    {
      "cell_type": "markdown",
      "metadata": {
        "id": "5HiD63BL0YmT"
      },
      "source": [
        "First let us import the necessary libraries and the pre trained VGG16 class"
      ]
    },
    {
      "cell_type": "code",
      "metadata": {
        "id": "BOd1aLksENHG"
      },
      "source": [
        "import tensorflow\n",
        "import os\n",
        "from tensorflow.keras import layers\n",
        "from tensorflow.keras import Model\n",
        "from tensorflow.keras.models import Sequential\n",
        "from tensorflow.keras.applications.vgg16 import VGG16\n"
      ],
      "execution_count": 2,
      "outputs": []
    },
    {
      "cell_type": "code",
      "metadata": {
        "id": "HNHZBC-OENHy"
      },
      "source": [
        "from keras.preprocessing.image import ImageDataGenerator"
      ],
      "execution_count": 3,
      "outputs": []
    },
    {
      "cell_type": "markdown",
      "metadata": {
        "id": "11wNYY_N0ngD"
      },
      "source": [
        "Since i am using google colab let us first mount the drive "
      ]
    },
    {
      "cell_type": "code",
      "metadata": {
        "colab": {
          "base_uri": "https://localhost:8080/"
        },
        "id": "TXaxBqwiENH5",
        "outputId": "c4ffa646-29c3-4fb5-895d-0eeccade94e0"
      },
      "source": [
        "from google.colab import drive\n",
        "drive.mount('/content/drive')"
      ],
      "execution_count": 4,
      "outputs": [
        {
          "output_type": "stream",
          "text": [
            "Drive already mounted at /content/drive; to attempt to forcibly remount, call drive.mount(\"/content/drive\", force_remount=True).\n"
          ],
          "name": "stdout"
        }
      ]
    },
    {
      "cell_type": "markdown",
      "metadata": {
        "id": "UxQ1S6y_0wL7"
      },
      "source": [
        "Let us check and set the working directory location"
      ]
    },
    {
      "cell_type": "code",
      "metadata": {
        "id": "icCCzRHNENH7"
      },
      "source": [
        "os.chdir(\"/content/drive/MyDrive/data\")"
      ],
      "execution_count": 5,
      "outputs": []
    },
    {
      "cell_type": "code",
      "metadata": {
        "colab": {
          "base_uri": "https://localhost:8080/",
          "height": 35
        },
        "id": "E5xItpVkENH9",
        "outputId": "8b10029d-6964-46a8-9640-8f08a84b841e"
      },
      "source": [
        "os.getcwd()"
      ],
      "execution_count": 6,
      "outputs": [
        {
          "output_type": "execute_result",
          "data": {
            "application/vnd.google.colaboratory.intrinsic+json": {
              "type": "string"
            },
            "text/plain": [
              "'/content/drive/MyDrive/data'"
            ]
          },
          "metadata": {
            "tags": []
          },
          "execution_count": 6
        }
      ]
    },
    {
      "cell_type": "markdown",
      "metadata": {
        "id": "X8aEu6nB04iE"
      },
      "source": [
        "Preprocessing"
      ]
    },
    {
      "cell_type": "code",
      "metadata": {
        "id": "pWJVMv_uENII"
      },
      "source": [
        "train_image = ImageDataGenerator(rescale = 1./255,\n",
        "                                       rotation_range=40,\n",
        "                                       horizontal_flip = True)"
      ],
      "execution_count": 7,
      "outputs": []
    },
    {
      "cell_type": "markdown",
      "metadata": {
        "id": "4T9N_WAM1sYp"
      },
      "source": [
        "creating a batch of size 128 which has a target size of 128x128 from training"
      ]
    },
    {
      "cell_type": "code",
      "metadata": {
        "colab": {
          "base_uri": "https://localhost:8080/"
        },
        "id": "GHbPPxQYENIJ",
        "outputId": "db75707c-92c5-4c1b-ce2c-c2d1bd4f5c8f"
      },
      "source": [
        "train_gen = train_image.flow_from_directory(\"/content/drive/MyDrive/data/train\",\n",
        "                                                        target_size = (128,128), batch_size=128, class_mode = 'binary')"
      ],
      "execution_count": 8,
      "outputs": [
        {
          "output_type": "stream",
          "text": [
            "Found 20001 images belonging to 2 classes.\n"
          ],
          "name": "stdout"
        }
      ]
    },
    {
      "cell_type": "markdown",
      "metadata": {
        "id": "j2Yax9aA2PJR"
      },
      "source": [
        "Rescaling of the test images"
      ]
    },
    {
      "cell_type": "code",
      "metadata": {
        "id": "P-WmxIkXENIO"
      },
      "source": [
        "valid_image = ImageDataGenerator(rescale = 1./255)"
      ],
      "execution_count": 9,
      "outputs": []
    },
    {
      "cell_type": "markdown",
      "metadata": {
        "id": "gOp2f3wz3CUR"
      },
      "source": [
        "creating a batch of size 128 which has a target size of 128x128 from test"
      ]
    },
    {
      "cell_type": "code",
      "metadata": {
        "colab": {
          "base_uri": "https://localhost:8080/"
        },
        "id": "J84lGWqjENIP",
        "outputId": "dc986c72-613b-4939-a10b-ad1786845c10"
      },
      "source": [
        "valid_gen = valid_image.flow_from_directory(directory=\"/content/drive/MyDrive/data/test\", \n",
        "                                                                   target_size = (128,128), batch_size=128, class_mode = 'binary')"
      ],
      "execution_count": 10,
      "outputs": [
        {
          "output_type": "stream",
          "text": [
            "Found 5000 images belonging to 2 classes.\n"
          ],
          "name": "stdout"
        }
      ]
    },
    {
      "cell_type": "markdown",
      "metadata": {
        "id": "qi05ns4G3JFA"
      },
      "source": [
        "importing the pretrained model VGG16 using the weights from imagenet by not including the top layer\n"
      ]
    },
    {
      "cell_type": "code",
      "metadata": {
        "colab": {
          "base_uri": "https://localhost:8080/"
        },
        "id": "lum1H6gkENIS",
        "outputId": "b6ad28e0-f2da-4802-cfc2-f8b1cfd8cd77"
      },
      "source": [
        "conv_model = VGG16(input_shape=(128,128,3), include_top=False,weights='imagenet')"
      ],
      "execution_count": 11,
      "outputs": [
        {
          "output_type": "stream",
          "text": [
            "Downloading data from https://storage.googleapis.com/tensorflow/keras-applications/vgg16/vgg16_weights_tf_dim_ordering_tf_kernels_notop.h5\n",
            "58892288/58889256 [==============================] - 0s 0us/step\n"
          ],
          "name": "stdout"
        }
      ]
    },
    {
      "cell_type": "code",
      "metadata": {
        "colab": {
          "base_uri": "https://localhost:8080/"
        },
        "id": "hsMwzhpBENIU",
        "outputId": "8a555a9d-13d3-42f7-833e-37c196c697ec"
      },
      "source": [
        "conv_model.summary()"
      ],
      "execution_count": 12,
      "outputs": [
        {
          "output_type": "stream",
          "text": [
            "Model: \"vgg16\"\n",
            "_________________________________________________________________\n",
            "Layer (type)                 Output Shape              Param #   \n",
            "=================================================================\n",
            "input_1 (InputLayer)         [(None, 128, 128, 3)]     0         \n",
            "_________________________________________________________________\n",
            "block1_conv1 (Conv2D)        (None, 128, 128, 64)      1792      \n",
            "_________________________________________________________________\n",
            "block1_conv2 (Conv2D)        (None, 128, 128, 64)      36928     \n",
            "_________________________________________________________________\n",
            "block1_pool (MaxPooling2D)   (None, 64, 64, 64)        0         \n",
            "_________________________________________________________________\n",
            "block2_conv1 (Conv2D)        (None, 64, 64, 128)       73856     \n",
            "_________________________________________________________________\n",
            "block2_conv2 (Conv2D)        (None, 64, 64, 128)       147584    \n",
            "_________________________________________________________________\n",
            "block2_pool (MaxPooling2D)   (None, 32, 32, 128)       0         \n",
            "_________________________________________________________________\n",
            "block3_conv1 (Conv2D)        (None, 32, 32, 256)       295168    \n",
            "_________________________________________________________________\n",
            "block3_conv2 (Conv2D)        (None, 32, 32, 256)       590080    \n",
            "_________________________________________________________________\n",
            "block3_conv3 (Conv2D)        (None, 32, 32, 256)       590080    \n",
            "_________________________________________________________________\n",
            "block3_pool (MaxPooling2D)   (None, 16, 16, 256)       0         \n",
            "_________________________________________________________________\n",
            "block4_conv1 (Conv2D)        (None, 16, 16, 512)       1180160   \n",
            "_________________________________________________________________\n",
            "block4_conv2 (Conv2D)        (None, 16, 16, 512)       2359808   \n",
            "_________________________________________________________________\n",
            "block4_conv3 (Conv2D)        (None, 16, 16, 512)       2359808   \n",
            "_________________________________________________________________\n",
            "block4_pool (MaxPooling2D)   (None, 8, 8, 512)         0         \n",
            "_________________________________________________________________\n",
            "block5_conv1 (Conv2D)        (None, 8, 8, 512)         2359808   \n",
            "_________________________________________________________________\n",
            "block5_conv2 (Conv2D)        (None, 8, 8, 512)         2359808   \n",
            "_________________________________________________________________\n",
            "block5_conv3 (Conv2D)        (None, 8, 8, 512)         2359808   \n",
            "_________________________________________________________________\n",
            "block5_pool (MaxPooling2D)   (None, 4, 4, 512)         0         \n",
            "=================================================================\n",
            "Total params: 14,714,688\n",
            "Trainable params: 14,714,688\n",
            "Non-trainable params: 0\n",
            "_________________________________________________________________\n"
          ],
          "name": "stdout"
        }
      ]
    },
    {
      "cell_type": "code",
      "metadata": {
        "id": "TxlZUliKENIV"
      },
      "source": [
        "for layer in conv_model.layers:\n",
        "    layer.trainable = False"
      ],
      "execution_count": 13,
      "outputs": []
    },
    {
      "cell_type": "markdown",
      "metadata": {
        "id": "uGNRHVvy4-eX"
      },
      "source": [
        "let us now create the model with conv model"
      ]
    },
    {
      "cell_type": "code",
      "metadata": {
        "id": "dQY9V5BPENIX"
      },
      "source": [
        "model = Sequential()\n",
        "model.add(conv_model)\n",
        "model.add(layers.Flatten())\n",
        "model.add(layers.Dense(256, activation = 'relu'))\n",
        "model.add(layers.Dense(128, activation = 'relu'))\n",
        "model.add(layers.Dense(64, activation = 'relu'))\n",
        "model.add(layers.Dense(1, activation = 'sigmoid'))"
      ],
      "execution_count": 14,
      "outputs": []
    },
    {
      "cell_type": "code",
      "metadata": {
        "colab": {
          "base_uri": "https://localhost:8080/"
        },
        "id": "DK9xzhwIENIY",
        "outputId": "179dfda8-10cd-4647-ded7-a6faa835e49d"
      },
      "source": [
        "model.summary()"
      ],
      "execution_count": 15,
      "outputs": [
        {
          "output_type": "stream",
          "text": [
            "Model: \"sequential\"\n",
            "_________________________________________________________________\n",
            "Layer (type)                 Output Shape              Param #   \n",
            "=================================================================\n",
            "vgg16 (Functional)           (None, 4, 4, 512)         14714688  \n",
            "_________________________________________________________________\n",
            "flatten (Flatten)            (None, 8192)              0         \n",
            "_________________________________________________________________\n",
            "dense (Dense)                (None, 256)               2097408   \n",
            "_________________________________________________________________\n",
            "dense_1 (Dense)              (None, 128)               32896     \n",
            "_________________________________________________________________\n",
            "dense_2 (Dense)              (None, 64)                8256      \n",
            "_________________________________________________________________\n",
            "dense_3 (Dense)              (None, 1)                 65        \n",
            "=================================================================\n",
            "Total params: 16,853,313\n",
            "Trainable params: 2,138,625\n",
            "Non-trainable params: 14,714,688\n",
            "_________________________________________________________________\n"
          ],
          "name": "stdout"
        }
      ]
    },
    {
      "cell_type": "markdown",
      "metadata": {
        "id": "Hr8KaJdd50C9"
      },
      "source": [
        "let us now compile the model"
      ]
    },
    {
      "cell_type": "code",
      "metadata": {
        "id": "grJrEMUpENIZ"
      },
      "source": [
        "model.compile(optimizer='rmsprop', loss='binary_crossentropy', metrics=['accuracy'])"
      ],
      "execution_count": 16,
      "outputs": []
    },
    {
      "cell_type": "code",
      "metadata": {
        "colab": {
          "base_uri": "https://localhost:8080/"
        },
        "id": "E5OfOqCtENIa",
        "outputId": "48826260-febd-4180-fef1-1e653e5f424c"
      },
      "source": [
        "history =model.fit(train_gen, batch_size = 16, steps_per_epoch = 16, epochs = 10, verbose = 1, validation_data = valid_gen)"
      ],
      "execution_count": 17,
      "outputs": [
        {
          "output_type": "stream",
          "text": [
            "Epoch 1/10\n",
            "16/16 [==============================] - 1463s 93s/step - loss: 1.3864 - accuracy: 0.5185 - val_loss: 0.6464 - val_accuracy: 0.5700\n",
            "Epoch 2/10\n",
            "16/16 [==============================] - 401s 25s/step - loss: 0.6391 - accuracy: 0.5784 - val_loss: 1.1090 - val_accuracy: 0.5000\n",
            "Epoch 3/10\n",
            "16/16 [==============================] - 362s 23s/step - loss: 0.6966 - accuracy: 0.6232 - val_loss: 0.4207 - val_accuracy: 0.8250\n",
            "Epoch 4/10\n",
            "16/16 [==============================] - 325s 20s/step - loss: 0.4998 - accuracy: 0.7652 - val_loss: 0.3529 - val_accuracy: 0.8454\n",
            "Epoch 5/10\n",
            "16/16 [==============================] - 291s 18s/step - loss: 0.5326 - accuracy: 0.7337 - val_loss: 0.3437 - val_accuracy: 0.8414\n",
            "Epoch 6/10\n",
            "16/16 [==============================] - 262s 16s/step - loss: 0.4465 - accuracy: 0.7927 - val_loss: 0.3101 - val_accuracy: 0.8692\n",
            "Epoch 7/10\n",
            "16/16 [==============================] - 243s 15s/step - loss: 0.4655 - accuracy: 0.7910 - val_loss: 0.3106 - val_accuracy: 0.8706\n",
            "Epoch 8/10\n",
            "16/16 [==============================] - 217s 13s/step - loss: 0.3715 - accuracy: 0.8328 - val_loss: 0.3167 - val_accuracy: 0.8622\n",
            "Epoch 9/10\n",
            "16/16 [==============================] - 192s 12s/step - loss: 0.4025 - accuracy: 0.8124 - val_loss: 0.3434 - val_accuracy: 0.8456\n",
            "Epoch 10/10\n",
            "16/16 [==============================] - 178s 11s/step - loss: 0.4333 - accuracy: 0.7903 - val_loss: 0.2869 - val_accuracy: 0.8798\n"
          ],
          "name": "stdout"
        }
      ]
    },
    {
      "cell_type": "code",
      "metadata": {
        "id": "DuyWx3JMENIc"
      },
      "source": [
        "#visualization\n",
        "import matplotlib.pyplot as plt"
      ],
      "execution_count": 18,
      "outputs": []
    },
    {
      "cell_type": "markdown",
      "metadata": {
        "id": "-rmOMoXo6FUd"
      },
      "source": [
        "let us plot the accuracy and compare it with epoch"
      ]
    },
    {
      "cell_type": "code",
      "metadata": {
        "id": "5GDGR3l7ENId",
        "colab": {
          "base_uri": "https://localhost:8080/",
          "height": 295
        },
        "outputId": "c2adf9b1-35a4-4176-a222-2fd384843b5c"
      },
      "source": [
        "plt.plot(history.history['accuracy'])\n",
        "plt.plot(history.history['val_accuracy'])\n",
        "plt.title(\"Model Accuracy\")\n",
        "plt.ylabel('accuracy')\n",
        "plt.xlabel('epoch')\n",
        "plt.legend(['train'], loc='upper left')\n",
        "plt.show()"
      ],
      "execution_count": 19,
      "outputs": [
        {
          "output_type": "display_data",
          "data": {
            "image/png": "[encoded data removed]",
            "text/plain": [
              "<Figure size 432x288 with 1 Axes>"
            ]
          },
          "metadata": {
            "tags": [],
            "needs_background": "light"
          }
        }
      ]
    },
    {
      "cell_type": "markdown",
      "metadata": {
        "id": "xKXebX1W6gV7"
      },
      "source": [
        "let us now plot the loss and compare it with epoch"
      ]
    },
    {
      "cell_type": "code",
      "metadata": {
        "id": "Xm5lq0idENIg",
        "colab": {
          "base_uri": "https://localhost:8080/",
          "height": 295
        },
        "outputId": "804f3d86-ed99-4f06-c847-29a5e6df26eb"
      },
      "source": [
        "plt.plot(history.history['loss'])\n",
        "plt.plot(history.history['val_loss'])\n",
        "plt.title(\"Model loss\")\n",
        "plt.ylabel('loss')\n",
        "plt.xlabel('epoch')\n",
        "plt.legend(['validation'], loc='upper left')\n",
        "plt.show()"
      ],
      "execution_count": 20,
      "outputs": [
        {
          "output_type": "display_data",
          "data": {
            "image/png": "[encoded data removed]",
            "text/plain": [
              "<Figure size 432x288 with 1 Axes>"
            ]
          },
          "metadata": {
            "tags": [],
            "needs_background": "light"
          }
        }
      ]
    },
    {
      "cell_type": "markdown",
      "metadata": {
        "id": "WSJcVKsZ6JL-"
      },
      "source": [
        "in terms of accuracy pre trained models ar better\n",
        "than models created from scratch"
      ]
    },
    {
      "cell_type": "code",
      "metadata": {
        "id": "lKhiwDB_ENIj"
      },
      "source": [
        ""
      ],
      "execution_count": 20,
      "outputs": []
    }
  ]
}